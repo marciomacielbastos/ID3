{
 "cells": [
  {
   "cell_type": "markdown",
   "metadata": {},
   "source": [
    "# ID3 Example!"
   ]
  },
  {
   "cell_type": "markdown",
   "metadata": {},
   "source": [
    "<p>Here is a example of ID3 three implementation to solve a simple problem</p>"
   ]
  },
  {
   "cell_type": "code",
   "execution_count": 48,
   "metadata": {
    "collapsed": true
   },
   "outputs": [],
   "source": [
    "import math"
   ]
  },
  {
   "cell_type": "code",
   "execution_count": 49,
   "metadata": {
    "collapsed": false
   },
   "outputs": [],
   "source": [
    "def create_index(T, a):\n",
    "    elements = set(zip(*T)[a])\n",
    "    index = {e : [] for e in elements}\n",
    "    for t in xrange(len(T)):\n",
    "        index[T[t][a]].append(t)\n",
    "    return index"
   ]
  },
  {
   "cell_type": "code",
   "execution_count": 50,
   "metadata": {
    "collapsed": false
   },
   "outputs": [],
   "source": [
    "qnt_att = len(table[0])"
   ]
  },
  {
   "cell_type": "markdown",
   "metadata": {},
   "source": [
    "<h2>Self-information $I(\\omega_{n})$<h2><br><br>\n",
    "<p1>$I(\\omega_{n}) = \\log_{2}\\left(\\frac{1}{P(\\omega_{n})}\\right)$"
   ]
  },
  {
   "cell_type": "markdown",
   "metadata": {},
   "source": [
    "<h2>Entropy $H(X)$</h2><br>\n",
    "<p1>$H(X) = E[I(X)]=E[-\\log_{2}(P(X))]$</p1><br><br>\n",
    "<p2>$H(X) = \\displaystyle\\sum_{i} P(x_{i})I(x_{i})$</p2>"
   ]
  },
  {
   "cell_type": "code",
   "execution_count": 51,
   "metadata": {
    "collapsed": true
   },
   "outputs": [],
   "source": [
    "def P(X,a):\n",
    "    count = 0\n",
    "    for i in X:\n",
    "        if i == a:\n",
    "            count += 1\n",
    "    return count / float(len(X))"
   ]
  },
  {
   "cell_type": "code",
   "execution_count": 52,
   "metadata": {
    "collapsed": false
   },
   "outputs": [],
   "source": [
    "def H(X):\n",
    "    summ = 0\n",
    "    probabilities = []\n",
    "    elements = set(X)\n",
    "    for i in elements:\n",
    "        p = P(X, i)\n",
    "        summ += -(p*math.log(p,2))\n",
    "    return summ\n",
    "    "
   ]
  },
  {
   "cell_type": "markdown",
   "metadata": {},
   "source": [
    "<h2>Information Gain $IG(T,a)$</h2><br><br>\n",
    "<p1>$IG(T,a)=H(T)-H(T|a)$</p1><br>\n",
    "<p2>$IG(T,a)=H(T)-\\displaystyle\\sum_{v\\in vals(a)}\\frac{\\left|x\\in T| x_{a}=v\\right|}{|T|}.H({x\\in T| x_{a}=v})$</p2>"
   ]
  },
  {
   "cell_type": "code",
   "execution_count": 53,
   "metadata": {
    "collapsed": false
   },
   "outputs": [],
   "source": [
    "def clusterize(T, a):\n",
    "    #Drop columns other than \"a\" and the target\n",
    "    t = zip(zip(*T)[a], zip(*T)[len(T[0])-1])\n",
    "    elements = set(zip(*T)[a])\n",
    "    tables = []\n",
    "    for i in elements:\n",
    "        x = []\n",
    "        for j in t:\n",
    "            if j[0] == i:\n",
    "                x.append(j)\n",
    "        tables.append(x)\n",
    "    return tables    "
   ]
  },
  {
   "cell_type": "code",
   "execution_count": 54,
   "metadata": {
    "collapsed": false
   },
   "outputs": [],
   "source": [
    "def IG(T, a):\n",
    "    impurity = H(zip(*T)[len(T[0])-1])\n",
    "    subtables = clusterize(T, a)\n",
    "    summ = 0\n",
    "    for st in subtables:\n",
    "        #Calculate entropy for the target attribute for each st\n",
    "        entropy = H(zip(*st)[len(st[0])-1])\n",
    "        probability = len(st) / float(len(T))\n",
    "        summ += probability*entropy\n",
    "    return impurity - summ"
   ]
  },
  {
   "cell_type": "code",
   "execution_count": 55,
   "metadata": {
    "collapsed": true
   },
   "outputs": [],
   "source": [
    "#Select the best attribute\n",
    "def picky_select(T):\n",
    "    ig_max = -float(\"inf\")\n",
    "    att = 0\n",
    "    for i in xrange(len(T[0])-1):\n",
    "        ig_i = IG(T,i)\n",
    "        if ig_i>ig_max:\n",
    "            ig_max = ig_i\n",
    "            att = i\n",
    "    return att    "
   ]
  },
  {
   "cell_type": "code",
   "execution_count": 66,
   "metadata": {
    "collapsed": true
   },
   "outputs": [],
   "source": [
    "def get_subtables(T, a, elements):\n",
    "    subtables = []\n",
    "    index = create_index(T,a)\n",
    "    for e in elements:\n",
    "        for row in index[e]:\n",
    "            temp = list(T[row])\n",
    "            temp.pop(a)\n",
    "            subtables.append(tuple(temp))\n",
    "    return subtables\n",
    "    "
   ]
  },
  {
   "cell_type": "code",
   "execution_count": 67,
   "metadata": {
    "collapsed": false
   },
   "outputs": [],
   "source": [
    "def get_elements_picked(T):\n",
    "    column = picky_select(T)\n",
    "    clusters = clusterize(T, column)\n",
    "    elements = []\n",
    "    d = {}\n",
    "    for i in clusters:\n",
    "        if H(i) != 0:\n",
    "            elements.append(i[0][0])\n",
    "        if H(i) == 0:\n",
    "            d[i[0][0]] = i[0][1]\n",
    "    return column, elements, d"
   ]
  },
  {
   "cell_type": "code",
   "execution_count": 68,
   "metadata": {
    "collapsed": false
   },
   "outputs": [],
   "source": [
    "def get_level_of_attributes(T):\n",
    "    v = []\n",
    "    while len(T[1]):\n",
    "        column, elements, d = get_elements_picked(T[1])\n",
    "        T[1] = get_subtables(T[1], column, elements)\n",
    "        col =  T[0].pop(column)\n",
    "        v.append([col, d])\n",
    "    return v"
   ]
  },
  {
   "cell_type": "code",
   "execution_count": 69,
   "metadata": {
    "collapsed": true
   },
   "outputs": [],
   "source": [
    "def get_dict(T):\n",
    "    d = {T[0][i] : i for i in xrange(len(T[0]))}\n",
    "    return d"
   ]
  },
  {
   "cell_type": "code",
   "execution_count": 70,
   "metadata": {
    "collapsed": true
   },
   "outputs": [],
   "source": [
    "def get_answer(t,T):\n",
    "    d = get_dict(T)\n",
    "    path = get_level_of_attributes(T)\n",
    "    for branch in path:\n",
    "        if t[d[branch[0]]] in branch[1].keys():\n",
    "            return branch[1][t[d[branch[0]]]]"
   ]
  },
  {
   "cell_type": "markdown",
   "metadata": {},
   "source": [
    "<h2>Exemple:</h2>"
   ]
  },
  {
   "cell_type": "code",
   "execution_count": 83,
   "metadata": {
    "collapsed": false
   },
   "outputs": [
    {
     "data": {
      "text/plain": [
       "[['Gender', 'Car Ownership', 'Travel Cost', 'Income Level', 'Transportation'],\n",
       " [('Male', 0, 'Cheap', 'Low', 'Bus'),\n",
       "  ('Male', 1, 'Cheap', 'Medium', 'Bus'),\n",
       "  ('Female', 1, 'Cheap', 'Medium', 'Train'),\n",
       "  ('Female', 0, 'Cheap', 'Low', 'Bus'),\n",
       "  ('Male', 1, 'Cheap', 'Medium', 'Bus'),\n",
       "  ('Male', 0, 'Standard', 'Medium', 'Train'),\n",
       "  ('Female', 1, 'Standard', 'Medium', 'Train'),\n",
       "  ('Female', 1, 'Expensive', 'High', 'Car'),\n",
       "  ('Male', 2, 'Expensive', 'Medium', 'Car'),\n",
       "  ('Female', 2, 'Expensive', 'High', 'Car')]]"
      ]
     },
     "execution_count": 83,
     "metadata": {},
     "output_type": "execute_result"
    }
   ],
   "source": [
    "T = [['Gender', 'Car Ownership', 'Travel Cost', 'Income Level', 'Transportation'], [('Male', 0, 'Cheap', 'Low', 'Bus'), ('Male', 1, 'Cheap', 'Medium', 'Bus'), \n",
    "         ('Female', 1, 'Cheap', 'Medium', 'Train'), ('Female', 0, 'Cheap', 'Low', 'Bus'),\n",
    "         ('Male', 1, 'Cheap', 'Medium', 'Bus'), ('Male', 0, 'Standard', 'Medium', 'Train'),\n",
    "         ('Female', 1, 'Standard', 'Medium', 'Train'), ('Female', 1, 'Expensive', 'High', 'Car'),\n",
    "         ('Male', 2, 'Expensive', 'Medium', 'Car'), ('Female', 2, 'Expensive', 'High', 'Car')]]\n",
    "T"
   ]
  },
  {
   "cell_type": "code",
   "execution_count": 84,
   "metadata": {
    "collapsed": false
   },
   "outputs": [
    {
     "data": {
      "text/plain": [
       "('Female', 1, 'Cheap', 'Low')"
      ]
     },
     "execution_count": 84,
     "metadata": {},
     "output_type": "execute_result"
    }
   ],
   "source": [
    "t = ('Female', 1, 'Cheap', 'Low')\n",
    "t"
   ]
  },
  {
   "cell_type": "code",
   "execution_count": 85,
   "metadata": {
    "collapsed": false
   },
   "outputs": [
    {
     "name": "stdout",
     "output_type": "stream",
     "text": [
      "The person with the characteristics above should travel by  Train\n"
     ]
    }
   ],
   "source": [
    "print \"The person with the characteristics above should travel by \", get_answer(t, T)"
   ]
  }
 ],
 "metadata": {
  "kernelspec": {
   "display_name": "Python 2",
   "language": "python",
   "name": "python2"
  },
  "language_info": {
   "codemirror_mode": {
    "name": "ipython",
    "version": 2
   },
   "file_extension": ".py",
   "mimetype": "text/x-python",
   "name": "python",
   "nbconvert_exporter": "python",
   "pygments_lexer": "ipython2",
   "version": "2.7.10"
  }
 },
 "nbformat": 4,
 "nbformat_minor": 0
}
