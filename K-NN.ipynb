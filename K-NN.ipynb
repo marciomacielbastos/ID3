{
 "cells": [
  {
   "cell_type": "markdown",
   "metadata": {},
   "source": [
    "# K-NN Example!"
   ]
  },
  {
   "cell_type": "markdown",
   "metadata": {},
   "source": [
    "<p>Here is a example of k-NN three implementation to solve a simple problem of classification</p>"
   ]
  },
  {
   "cell_type": "code",
   "execution_count": 448,
   "metadata": {
    "collapsed": false
   },
   "outputs": [],
   "source": [
    "def euclidean_distance(p1, p2):\n",
    "    d = (p2[1]-p1[1])**2 + (p2[2]-p1[2])**2\n",
    "    return d**(0.5)"
   ]
  },
  {
   "cell_type": "code",
   "execution_count": 449,
   "metadata": {
    "collapsed": false
   },
   "outputs": [],
   "source": [
    "def get_smaller(T):\n",
    "    dmin = (1, float(\"inf\"))\n",
    "    for i in xrange(len(T)):\n",
    "        if dmin[1] > T[i][1]:\n",
    "            dmin = (i, T[i][1])\n",
    "    return dmin[0]"
   ]
  },
  {
   "cell_type": "code",
   "execution_count": 450,
   "metadata": {
    "collapsed": false
   },
   "outputs": [],
   "source": [
    "def get_bigger(t):\n",
    "    fmax = 0\n",
    "    type_ = None\n",
    "    for key in t.keys():\n",
    "        if fmax < t[key]:\n",
    "            fmax = t[key]\n",
    "            type_ = key\n",
    "    return key"
   ]
  },
  {
   "cell_type": "code",
   "execution_count": 451,
   "metadata": {
    "collapsed": true
   },
   "outputs": [],
   "source": [
    "def get_freqs(tab):\n",
    "    elements = set(zip(*tab)[3])\n",
    "    freqs = {e : 0 for e in elements}\n",
    "    for t in tab:\n",
    "        freqs[t[3]] += 1 / float(len(tab))\n",
    "    return freqs"
   ]
  },
  {
   "cell_type": "code",
   "execution_count": 452,
   "metadata": {
    "collapsed": false
   },
   "outputs": [],
   "source": [
    "def KNN(t, T, k):\n",
    "    distances = [(T[1][i][0], euclidean_distance(t, T[1][i])) for i in xrange(len(T[1]))] \n",
    "    ord_dist = []\n",
    "    dist_min = []\n",
    "    while distances:\n",
    "        v = get_smaller(distances)\n",
    "        distances.pop(v)\n",
    "        ord_dist.append(v)\n",
    "    for i in xrange(k):\n",
    "        dist_min.append(T[1].pop(ord_dist[i]))\n",
    "    return get_bigger(get_freqs(dist_min))"
   ]
  },
  {
   "cell_type": "code",
   "execution_count": 460,
   "metadata": {
    "collapsed": false
   },
   "outputs": [
    {
     "data": {
      "text/plain": [
       "[['Movie Title', '#kicks', '#kisses', 'Type of Movie'],\n",
       " [('California Man', 3, 104, 'Romance'),\n",
       "  (\"He's Not really into Dudes\", 2, 100, 'Romance'),\n",
       "  ('Beautiful Woman', 1, 81, 'Romance'),\n",
       "  ('Kevin Longblade', 101, 10, 'Action'),\n",
       "  ('Robo Slayer', 99, 5, 'Action'),\n",
       "  ('Amped II', 98, 2, 'Action')]]"
      ]
     },
     "execution_count": 460,
     "metadata": {},
     "output_type": "execute_result"
    }
   ],
   "source": [
    "T = [['Movie Title', '#kicks', '#kisses', 'Type of Movie'], [(\"California Man\", 3, 104, \"Romance\"),\n",
    "      (\"He's Not really into Dudes\", 2, 100, \"Romance\"), (\"Beautiful Woman\", 1, 81, \"Romance\"),\n",
    "      (\"Kevin Longblade\", 101, 10, \"Action\"), (\"Robo Slayer\", 99, 5, \"Action\"), (\"Amped II\", 98, 2, \"Action\")]]\n",
    "T"
   ]
  },
  {
   "cell_type": "code",
   "execution_count": 461,
   "metadata": {
    "collapsed": true
   },
   "outputs": [],
   "source": [
    "t = (\"?\", 50, 50)"
   ]
  },
  {
   "cell_type": "code",
   "execution_count": 462,
   "metadata": {
    "collapsed": false
   },
   "outputs": [
    {
     "name": "stdout",
     "output_type": "stream",
     "text": [
      "t is a  Action  movie\n"
     ]
    }
   ],
   "source": [
    "print \"t is a \",KNN(t, T, 2),\" movie\""
   ]
  }
 ],
 "metadata": {
  "kernelspec": {
   "display_name": "Python 2",
   "language": "python",
   "name": "python2"
  },
  "language_info": {
   "codemirror_mode": {
    "name": "ipython",
    "version": 2
   },
   "file_extension": ".py",
   "mimetype": "text/x-python",
   "name": "python",
   "nbconvert_exporter": "python",
   "pygments_lexer": "ipython2",
   "version": "2.7.10"
  }
 },
 "nbformat": 4,
 "nbformat_minor": 0
}
